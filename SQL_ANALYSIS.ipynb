{
  "nbformat": 4,
  "nbformat_minor": 0,
  "metadata": {
    "colab": {
      "provenance": [],
      "mount_file_id": "1d16NUxhEZFO_ldRkZGGw29S1sReNWjIt",
      "authorship_tag": "ABX9TyP61O4so6AM8uMvq2tEeYmh",
      "include_colab_link": true
    },
    "kernelspec": {
      "name": "python3",
      "display_name": "Python 3"
    },
    "language_info": {
      "name": "python"
    },
    "gpuClass": "standard"
  },
  "cells": [
    {
      "cell_type": "markdown",
      "metadata": {
        "id": "view-in-github",
        "colab_type": "text"
      },
      "source": [
        "<a href=\"https://colab.research.google.com/github/GregoriCastelhano/SQL_Analysis/blob/main/SQL_ANALYSIS.ipynb\" target=\"_parent\"><img src=\"https://colab.research.google.com/assets/colab-badge.svg\" alt=\"Open In Colab\"/></a>"
      ]
    },
    {
      "cell_type": "markdown",
      "source": [
        "# **Como a Monte Venêto pode estar bem posicionada para o lançamento do seu primeiro vinho?**"
      ],
      "metadata": {
        "id": "q1HcI3D-H34f"
      }
    },
    {
      "cell_type": "markdown",
      "source": [
        "### **Levamos em consideração 3 dimensões principais:**\n",
        "\n",
        "\n",
        "**Região**\n",
        "\n",
        "- Quais as regiões apresentam maior produção de vinhos avaliados pela revista?\n",
        "- Quais estão no Brasil?\n",
        "\n",
        "**Uva**\n",
        "\n",
        "- Quais os tipos de uvas são mais bem avaliadas?\n",
        "- Quais uvas são utilizadas pelas vinicolas nacionais?\n",
        "\n",
        "**Preço**\n",
        "\n",
        "- Qual a média de preço dos vinhos?\n",
        "- Qual o preço médio dos vinhos brasileiros avaliados pela revista?"
      ],
      "metadata": {
        "id": "_8nZt11NILyD"
      }
    },
    {
      "cell_type": "code",
      "source": [
        "!pip install pyspark"
      ],
      "metadata": {
        "colab": {
          "base_uri": "https://localhost:8080/"
        },
        "id": "nzoU6rSLMHaG",
        "outputId": "2a155b47-f3df-4513-e3cc-90dd65a739a8"
      },
      "execution_count": 1,
      "outputs": [
        {
          "output_type": "stream",
          "name": "stdout",
          "text": [
            "Looking in indexes: https://pypi.org/simple, https://us-python.pkg.dev/colab-wheels/public/simple/\n",
            "Collecting pyspark\n",
            "  Downloading pyspark-3.3.2.tar.gz (281.4 MB)\n",
            "\u001b[2K     \u001b[90m━━━━━━━━━━━━━━━━━━━━━━━━━━━━━━━━━━━━━━━\u001b[0m \u001b[32m281.4/281.4 MB\u001b[0m \u001b[31m4.5 MB/s\u001b[0m eta \u001b[36m0:00:00\u001b[0m\n",
            "\u001b[?25h  Preparing metadata (setup.py) ... \u001b[?25l\u001b[?25hdone\n",
            "Collecting py4j==0.10.9.5\n",
            "  Downloading py4j-0.10.9.5-py2.py3-none-any.whl (199 kB)\n",
            "\u001b[2K     \u001b[90m━━━━━━━━━━━━━━━━━━━━━━━━━━━━━━━━━━━━━━\u001b[0m \u001b[32m199.7/199.7 KB\u001b[0m \u001b[31m26.9 MB/s\u001b[0m eta \u001b[36m0:00:00\u001b[0m\n",
            "\u001b[?25hBuilding wheels for collected packages: pyspark\n",
            "  Building wheel for pyspark (setup.py) ... \u001b[?25l\u001b[?25hdone\n",
            "  Created wheel for pyspark: filename=pyspark-3.3.2-py2.py3-none-any.whl size=281824028 sha256=457a7cc344f1087c5c801f6216b3738aa0cfcb7042d4851f6cda1979cd7a6773\n",
            "  Stored in directory: /root/.cache/pip/wheels/6c/e3/9b/0525ce8a69478916513509d43693511463c6468db0de237c86\n",
            "Successfully built pyspark\n",
            "Installing collected packages: py4j, pyspark\n",
            "  Attempting uninstall: py4j\n",
            "    Found existing installation: py4j 0.10.9.7\n",
            "    Uninstalling py4j-0.10.9.7:\n",
            "      Successfully uninstalled py4j-0.10.9.7\n",
            "Successfully installed py4j-0.10.9.5 pyspark-3.3.2\n"
          ]
        }
      ]
    },
    {
      "cell_type": "code",
      "source": [
        "from pyspark.sql import*\n",
        "spark = SparkSession.builder.master(\"local[*]\").getOrCreate()"
      ],
      "metadata": {
        "id": "I8R-waQJMjB0"
      },
      "execution_count": 2,
      "outputs": []
    },
    {
      "cell_type": "code",
      "source": [
        "from pyspark.sql.functions import*"
      ],
      "metadata": {
        "id": "fEPAxJN3NW4D"
      },
      "execution_count": 3,
      "outputs": []
    },
    {
      "cell_type": "code",
      "source": [
        "df = spark.read.format(\"csv\") \\\n",
        "     .option(\"header\", \"true\") \\\n",
        "     .option(\"inferSchema\", \"true\") \\\n",
        "     .load(\"/content/drive/MyDrive/Portfolio/Vinho_DataSet/winemag_data.csv\")"
      ],
      "metadata": {
        "id": "6qFU7tCBOyJ4"
      },
      "execution_count": 4,
      "outputs": []
    },
    {
      "cell_type": "code",
      "source": [
        "df.createOrReplaceTempView(\"winemag_data\")"
      ],
      "metadata": {
        "id": "O0l7DXWSPSeE"
      },
      "execution_count": 5,
      "outputs": []
    },
    {
      "cell_type": "markdown",
      "source": [
        "#**Exploração dos dados (EDA)**"
      ],
      "metadata": {
        "id": "9iN2Sr-4IU8P"
      }
    },
    {
      "cell_type": "code",
      "source": [
        "result = spark.sql(\"SELECT * FROM winemag_data \\\n",
        "                    LIMIT 5\")\n",
        "result.show()\n"
      ],
      "metadata": {
        "colab": {
          "base_uri": "https://localhost:8080/"
        },
        "id": "j_p3oy2APdCE",
        "outputId": "dd7f8160-7b35-406b-d8fc-f144e67b6f3f"
      },
      "execution_count": 6,
      "outputs": [
        {
          "output_type": "stream",
          "name": "stdout",
          "text": [
            "+---+-------+--------------------+--------------------+------+-----+--------------+-----------------+-----------------+------------------+--------------------+\n",
            "|_c0|country|         description|         designation|points|price|      province|         region_1|         region_2|           variety|              winery|\n",
            "+---+-------+--------------------+--------------------+------+-----+--------------+-----------------+-----------------+------------------+--------------------+\n",
            "|  0|     US|This tremendous 1...|   Martha's Vineyard|    96|235.0|    California|      Napa Valley|             Napa|Cabernet Sauvignon|               Heitz|\n",
            "|  1|  Spain|Ripe aromas of fi...|Carodorum Selecci...|    96|110.0|Northern Spain|             Toro|             null|     Tinta de Toro|Bodega Carmen Rod...|\n",
            "|  2|     US|Mac Watson honors...|Special Selected ...|    96| 90.0|    California|   Knights Valley|           Sonoma|   Sauvignon Blanc|            Macauley|\n",
            "|  3|     US|This spent 20 mon...|             Reserve|    96| 65.0|        Oregon|Willamette Valley|Willamette Valley|        Pinot Noir|               Ponzi|\n",
            "|  4| France|This is the top w...|          La Brûlade|    95| 66.0|      Provence|           Bandol|             null|Provence red blend|Domaine de la Bégude|\n",
            "+---+-------+--------------------+--------------------+------+-----+--------------+-----------------+-----------------+------------------+--------------------+\n",
            "\n"
          ]
        }
      ]
    },
    {
      "cell_type": "markdown",
      "source": [
        "**Quais os países e regiões apresentam maior produção de vinhos avaliados pela revista?**\n",
        "\n"
      ],
      "metadata": {
        "id": "5SK-TkWDRNX1"
      }
    },
    {
      "cell_type": "code",
      "source": [
        "result = spark.sql(\"select country as pais, count(country) as soma_pais\\\n",
        "                    from winemag_data \\\n",
        "                    group by  country \\\n",
        "                    order by soma_pais desc\")\n",
        "result.show()"
      ],
      "metadata": {
        "colab": {
          "base_uri": "https://localhost:8080/"
        },
        "id": "wlFygvcMRTGs",
        "outputId": "4528ce6a-9be3-4d6e-bd1d-b3b5dc80cbec"
      },
      "execution_count": 7,
      "outputs": [
        {
          "output_type": "stream",
          "name": "stdout",
          "text": [
            "+------------+---------+\n",
            "|        pais|soma_pais|\n",
            "+------------+---------+\n",
            "|          US|    62397|\n",
            "|       Italy|    23478|\n",
            "|      France|    21098|\n",
            "|       Spain|     8268|\n",
            "|       Chile|     5816|\n",
            "|   Argentina|     5631|\n",
            "|    Portugal|     5322|\n",
            "|   Australia|     4957|\n",
            "| New Zealand|     3320|\n",
            "|     Austria|     3057|\n",
            "|     Germany|     2452|\n",
            "|South Africa|     2258|\n",
            "|      Greece|      884|\n",
            "|      Israel|      630|\n",
            "|     Hungary|      231|\n",
            "|      Canada|      196|\n",
            "|     Romania|      139|\n",
            "|    Slovenia|       94|\n",
            "|     Uruguay|       92|\n",
            "|     Croatia|       89|\n",
            "+------------+---------+\n",
            "only showing top 20 rows\n",
            "\n"
          ]
        }
      ]
    },
    {
      "cell_type": "code",
      "source": [
        "result = spark.sql(\"select province as regiao, count(province) as soma_regiao \\\n",
        "                    from winemag_data \\\n",
        "                    group by province \\\n",
        "                    order by soma_regiao desc\")\n",
        "result.show()"
      ],
      "metadata": {
        "colab": {
          "base_uri": "https://localhost:8080/"
        },
        "id": "RQ-mPHDVS-zz",
        "outputId": "5b3cd591-325c-40d9-eb8b-ba191b0ebd94"
      },
      "execution_count": 8,
      "outputs": [
        {
          "output_type": "stream",
          "name": "stdout",
          "text": [
            "+------------------+-----------+\n",
            "|            regiao|soma_regiao|\n",
            "+------------------+-----------+\n",
            "|        California|      44496|\n",
            "|        Washington|       9749|\n",
            "|           Tuscany|       7281|\n",
            "|          Bordeaux|       6111|\n",
            "|    Northern Spain|       4892|\n",
            "|  Mendoza Province|       4742|\n",
            "|            Oregon|       4589|\n",
            "|          Burgundy|       4306|\n",
            "|          Piedmont|       4092|\n",
            "|            Veneto|       3962|\n",
            "|   South Australia|       2998|\n",
            "| Sicily & Sardinia|       2544|\n",
            "|          New York|       2426|\n",
            "|Northeastern Italy|       1981|\n",
            "|      Loire Valley|       1784|\n",
            "|            Alsace|       1680|\n",
            "|       Marlborough|       1655|\n",
            "|  Southwest France|       1601|\n",
            "|     Central Italy|       1530|\n",
            "|    Southern Italy|       1439|\n",
            "+------------------+-----------+\n",
            "only showing top 20 rows\n",
            "\n"
          ]
        }
      ]
    },
    {
      "cell_type": "markdown",
      "source": [
        "- O país que apresenta maior produção de vinhos é os Estados Unidos\n",
        "- A região que apresenta a maior produção de vinhos é a Califórnia"
      ],
      "metadata": {
        "id": "vw9meSfdTWXl"
      }
    },
    {
      "cell_type": "markdown",
      "source": [
        "**Como o Brasil está posicionado nesse ranking?**"
      ],
      "metadata": {
        "id": "NAdODjgZT8up"
      }
    },
    {
      "cell_type": "code",
      "source": [
        "result = spark.sql(\"select country as pais, count(country) as soma_pais \\\n",
        "from winemag_data \\\n",
        "where country = 'Brazil' \\\n",
        "group by country\")\n",
        "\n",
        "result.show()"
      ],
      "metadata": {
        "colab": {
          "base_uri": "https://localhost:8080/"
        },
        "id": "_x6j_zNBT-KZ",
        "outputId": "36badbe1-8866-43dd-9a23-f570c1988d02"
      },
      "execution_count": 9,
      "outputs": [
        {
          "output_type": "stream",
          "name": "stdout",
          "text": [
            "+------+---------+\n",
            "|  pais|soma_pais|\n",
            "+------+---------+\n",
            "|Brazil|       25|\n",
            "+------+---------+\n",
            "\n"
          ]
        }
      ]
    },
    {
      "cell_type": "markdown",
      "source": [
        "- O Brasil possui um total de 25 vinhos avaliados pela revista durante o período analisado"
      ],
      "metadata": {
        "id": "S-1SliFXYnjX"
      }
    },
    {
      "cell_type": "markdown",
      "source": [
        "**Quais regiões brasileiras possuem vinhos avaliados?**"
      ],
      "metadata": {
        "id": "P_majnA7Yqfd"
      }
    },
    {
      "cell_type": "code",
      "source": [
        "result = spark.sql(\"select province as regiao, count(province) as soma_regiao \\\n",
        "                    from winemag_data \\\n",
        "                    where country = 'Brazil' \\\n",
        "                    group by country, province, region_1, region_2 \\\n",
        "                    order by soma_regiao desc\")\n",
        "result.show()"
      ],
      "metadata": {
        "colab": {
          "base_uri": "https://localhost:8080/"
        },
        "id": "_O-6E5M7Y2kO",
        "outputId": "2de3f8e0-d147-4d53-b342-7a1c2f8e0775"
      },
      "execution_count": 10,
      "outputs": [
        {
          "output_type": "stream",
          "name": "stdout",
          "text": [
            "+-----------------+-----------+\n",
            "|           regiao|soma_regiao|\n",
            "+-----------------+-----------+\n",
            "|Vale dos Vinhedos|         11|\n",
            "|           Brazil|          6|\n",
            "|     Serra Gaúcha|          4|\n",
            "|   Santa Catarina|          2|\n",
            "| Serra do Sudeste|          1|\n",
            "|    Vale Trentino|          1|\n",
            "+-----------------+-----------+\n",
            "\n"
          ]
        }
      ]
    },
    {
      "cell_type": "markdown",
      "source": [
        "Os vinhos produzidos no Brasil apareceram em 25 avaliações durante o período analisado.\n",
        "\n",
        "A região brasileira que teve mais avaliações foi o Vale dos Vinhedos localizado na Serra Gaúcha no estado do Rio Grande do Sul com um total de 11 vinhos, porém há a presença de outros vinhos avaliados também localizados na Serra Gaúcha. Apesar de não haver total certeza de que o outros vinhos também não sejam especificamente da região do Vale dos Vinhedos, é evidenciado que a maior concentração de vinhos brasileiros avaliados pela Wine Enthusiast está na Serra Gaúcha.\n",
        "\n",
        "Os achados nos levam a pensar que a Monte Venêto se localiza em uma região estratégica do ponto de vista de produção vinícula, visto que ela também se encontra na região da Serra Gaúcha. Isso chama a atenção para dois pontos: O primeiro se refere a competitividade que o seu novo produto deve apresentar em relação ao preço e aos vinhos que ja são produzidos na região. O segundo ponto está no fato de que a região já apresenta uma certa relevância internacional em relação a crítica especializada."
      ],
      "metadata": {
        "id": "Th6lCe21c0OC"
      }
    },
    {
      "cell_type": "markdown",
      "source": [
        "**Quais os tipos uvas são mais bem avaliadas?**"
      ],
      "metadata": {
        "id": "mgdx_Hi1dII_"
      }
    },
    {
      "cell_type": "code",
      "source": [
        "result = spark.sql(\"select country as pais, province as regiao, variety as tipo_uva, \\\n",
        "                    count(variety) as soma_vinhos \\\n",
        "                  from winemag_data \\\n",
        "                  group by country, province, variety \\\n",
        "                  order by soma_vinhos desc\")\n",
        "result.show()"
      ],
      "metadata": {
        "colab": {
          "base_uri": "https://localhost:8080/"
        },
        "id": "FMfe376rc2Dx",
        "outputId": "4ce0b3f0-3c1f-409f-a4d2-f2184de8099b"
      },
      "execution_count": 11,
      "outputs": [
        {
          "output_type": "stream",
          "name": "stdout",
          "text": [
            "+---------+----------------+--------------------+-----------+\n",
            "|     pais|          regiao|            tipo_uva|soma_vinhos|\n",
            "+---------+----------------+--------------------+-----------+\n",
            "|       US|      California|          Pinot Noir|       7631|\n",
            "|       US|      California|  Cabernet Sauvignon|       7444|\n",
            "|       US|      California|          Chardonnay|       6535|\n",
            "|   France|        Bordeaux|Bordeaux-style Re...|       4793|\n",
            "|       US|      California|           Zinfandel|       3689|\n",
            "|       US|      California|               Syrah|       2705|\n",
            "|       US|          Oregon|          Pinot Noir|       2552|\n",
            "|    Italy|         Tuscany|          Sangiovese|       2532|\n",
            "|   France|        Burgundy|          Chardonnay|       2401|\n",
            "|       US|      California|              Merlot|       2293|\n",
            "|       US|      California|     Sauvignon Blanc|       2220|\n",
            "|    Italy|         Tuscany|           Red Blend|       2215|\n",
            "|    Italy|        Piedmont|            Nebbiolo|       2181|\n",
            "|Argentina|Mendoza Province|              Malbec|       1893|\n",
            "|    Spain|  Northern Spain|         Tempranillo|       1784|\n",
            "|       US|      California|           Red Blend|       1783|\n",
            "|   France|        Burgundy|          Pinot Noir|       1781|\n",
            "|    Italy|          Veneto|Corvina, Rondinel...|       1682|\n",
            "|       US|      Washington|  Cabernet Sauvignon|       1481|\n",
            "|       US|      Washington|               Syrah|       1378|\n",
            "+---------+----------------+--------------------+-----------+\n",
            "only showing top 20 rows\n",
            "\n"
          ]
        }
      ]
    },
    {
      "cell_type": "code",
      "source": [
        "result = spark.sql(\"select variety as tipo_uva, \\\n",
        "                    count(variety) as contagem_vinhos, \\\n",
        "                    round(avg(points), 0) as media_pontuacao, \\\n",
        "                    max(points) as max_pontuacao, \\\n",
        "                    min(points) as min_pontuacao \\\n",
        "        from winemag_data \\\n",
        "        group by variety \\\n",
        "        order by media_pontuacao desc\")\n",
        "result.show()"
      ],
      "metadata": {
        "colab": {
          "base_uri": "https://localhost:8080/"
        },
        "id": "17hB9HbYgmoU",
        "outputId": "18ccda97-a2df-4baf-9f0e-6197f67cba88"
      },
      "execution_count": 12,
      "outputs": [
        {
          "output_type": "stream",
          "name": "stdout",
          "text": [
            "+--------------------+---------------+---------------+-------------+-------------+\n",
            "|            tipo_uva|contagem_vinhos|media_pontuacao|max_pontuacao|min_pontuacao|\n",
            "+--------------------+---------------+---------------+-------------+-------------+\n",
            "|     Cabernet-Shiraz|              1|           96.0|           96|           96|\n",
            "|               Tokay|             17|           93.0|           98|           86|\n",
            "|            Muscadel|             10|           93.0|           97|           88|\n",
            "|      Trousseau Gris|              1|           93.0|           93|           93|\n",
            "|       Blauburgunder|              1|           93.0|           93|           93|\n",
            "|            Roviello|              2|           93.0|           93|           92|\n",
            "|              Sirica|              2|           93.0|           94|           92|\n",
            "|      Loin de l'Oeil|              4|           92.0|           92|           91|\n",
            "|  Provence red blend|             25|           92.0|           95|           87|\n",
            "|       Black Monukka|              4|           92.0|           92|           90|\n",
            "|Malbec-Cabernet F...|              1|           92.0|           92|           92|\n",
            "|     Moscato di Noto|              1|           92.0|           92|           92|\n",
            "|           Rieslaner|              2|           92.0|           93|           90|\n",
            "|             Sercial|              2|           92.0|           92|           91|\n",
            "|          Caprettone|              1|           92.0|           92|           92|\n",
            "| Chardonnay-Albariño|              4|           92.0|           92|           91|\n",
            "|               Nasco|              5|           92.0|           92|           92|\n",
            "|            Torontel|              1|           92.0|           92|           92|\n",
            "|      Carignan-Syrah|              1|           92.0|           92|           92|\n",
            "|Roussanne-Grenach...|              2|           91.0|           91|           91|\n",
            "+--------------------+---------------+---------------+-------------+-------------+\n",
            "only showing top 20 rows\n",
            "\n"
          ]
        }
      ]
    },
    {
      "cell_type": "markdown",
      "source": [
        "- Os vinhos fabricados a partir da uva Pinot Noir foram os mais avaliados, porém a maior média de avaliação foi para os vinhos que possuem o blend Cabernet-Shiraz"
      ],
      "metadata": {
        "id": "EiU1z9zvhKg_"
      }
    },
    {
      "cell_type": "markdown",
      "source": [
        "**Quais uvas são mais bem avaliadas no Brasil?**"
      ],
      "metadata": {
        "id": "klsAnhZYhMEs"
      }
    },
    {
      "cell_type": "code",
      "source": [
        "result = spark.sql(\"select province as regiao, variety as tipo_uva, \\\n",
        "                    count(variety) as contagem_vinhos, \\\n",
        "                    round(avg(points), 0) as media_pontuacao, \\\n",
        "                    max(points) as max_pontuacao, \\\n",
        "                    min(points) as min_pontuacao \\\n",
        "         from winemag_data \\\n",
        "         where country = 'Brazil' \\\n",
        "         group by province, variety \\\n",
        "         order by media_pontuacao desc\")\n",
        "result.show()"
      ],
      "metadata": {
        "colab": {
          "base_uri": "https://localhost:8080/"
        },
        "id": "sl3jEuKfhQ-S",
        "outputId": "e8a29bd3-3625-4373-d6b1-a2bf7c109226"
      },
      "execution_count": 13,
      "outputs": [
        {
          "output_type": "stream",
          "name": "stdout",
          "text": [
            "+-----------------+--------------------+---------------+---------------+-------------+-------------+\n",
            "|           regiao|            tipo_uva|contagem_vinhos|media_pontuacao|max_pontuacao|min_pontuacao|\n",
            "+-----------------+--------------------+---------------+---------------+-------------+-------------+\n",
            "|     Serra Gaúcha|              Merlot|              1|           88.0|           88|           88|\n",
            "|   Santa Catarina|Bordeaux-style Re...|              1|           86.0|           86|           86|\n",
            "|           Brazil|           Red Blend|              2|           84.0|           84|           84|\n",
            "|Vale dos Vinhedos|Cabernet Sauvigno...|              5|           84.0|           85|           84|\n",
            "|           Brazil|     Sparkling Blend|              3|           83.0|           84|           82|\n",
            "|   Santa Catarina|     Sparkling Blend|              1|           83.0|           83|           83|\n",
            "|     Serra Gaúcha|Cabernet Sauvigno...|              3|           83.0|           83|           83|\n",
            "| Serra do Sudeste|              Merlot|              1|           82.0|           82|           82|\n",
            "|           Brazil|             Moscato|              1|           82.0|           82|           82|\n",
            "|    Vale Trentino|              Tannat|              1|           82.0|           82|           82|\n",
            "|Vale dos Vinhedos|              Merlot|              3|           82.0|           82|           82|\n",
            "|Vale dos Vinhedos|  Cabernet Sauvignon|              3|           81.0|           81|           81|\n",
            "+-----------------+--------------------+---------------+---------------+-------------+-------------+\n",
            "\n"
          ]
        }
      ]
    },
    {
      "cell_type": "markdown",
      "source": [
        "- No Brasil os vinhos fabricados a partir da uva Merlot da Serra Gaúcha possuem uma maior média de avaliação com 88 pontos, seguido pelo Bordeaux-style Red Blend de Santa Catarina com 86 pontos. Devido às características de avaliação e os produtos da Monte Venêto a uva Bordeaux-style Red Blend merece destaque"
      ],
      "metadata": {
        "id": "VAZXDioOhraO"
      }
    },
    {
      "cell_type": "markdown",
      "source": [
        "**Qual a média de preço dos vinhos?**"
      ],
      "metadata": {
        "id": "HwTiJOETidaY"
      }
    },
    {
      "cell_type": "markdown",
      "source": [
        "- Média de preço geral (dólares) em relação ao tipo de uva"
      ],
      "metadata": {
        "id": "v9LZqEOjihlC"
      }
    },
    {
      "cell_type": "code",
      "source": [
        "result = spark.sql(\"select distinct variety as tipo_uva, \\\n",
        "                    count(variety) as contagem_vinhos, \\\n",
        "                    round(avg(price), 0) as media_preco, \\\n",
        "                    round(max(price), 0) as max_preco, \\\n",
        "                    round(min(price), 0) as min_preco \\\n",
        "        from winemag_data \\\n",
        "        group by tipo_uva \\\n",
        "        order by media_preco desc\")\n",
        "result.show()"
      ],
      "metadata": {
        "colab": {
          "base_uri": "https://localhost:8080/"
        },
        "id": "OgowBUcphtJK",
        "outputId": "ce7e31f5-ca54-44c1-9452-9a53e7554b36"
      },
      "execution_count": 14,
      "outputs": [
        {
          "output_type": "stream",
          "name": "stdout",
          "text": [
            "+--------------------+---------------+-----------+---------+---------+\n",
            "|            tipo_uva|contagem_vinhos|media_preco|max_preco|min_preco|\n",
            "+--------------------+---------------+-----------+---------+---------+\n",
            "|     Cabernet-Shiraz|              1|      150.0|    150.0|    150.0|\n",
            "|            Muscadel|             10|      141.0|     33.0|     11.0|\n",
            "|             Mazuelo|              2|       99.0|     92.0|    105.0|\n",
            "|                null|              0|       88.0|     88.0|     88.0|\n",
            "|              Sonoma|              1|       87.0|     87.0|     87.0|\n",
            "|          Tinto Fino|             75|       83.0|     90.0|     10.0|\n",
            "|             Mission|              7|       83.0|     18.0|    120.0|\n",
            "|               Tokay|             17|       82.0|     97.0|    120.0|\n",
            "|      Carignan-Syrah|              1|       80.0|     80.0|     80.0|\n",
            "|     Champagne Blend|           1238|       79.0|     99.0|     10.0|\n",
            "|             Picolit|             29|       72.0|     90.0|    100.0|\n",
            "|               Debit|              6|       72.0|     18.0|     13.0|\n",
            "|              Tokaji|             73|       71.0|     90.0|    100.0|\n",
            "|Syrah-Cabernet Franc|              3|       69.0|     69.0|     69.0|\n",
            "|            Nebbiolo|           2240|       66.0|     99.0|    100.0|\n",
            "|               Nasco|              5|       65.0|     65.0|     65.0|\n",
            "|   Sangiovese Grosso|           1346|       61.0|     99.0|    100.0|\n",
            "|      Cabernet Blend|            305|       61.0|     96.0|     10.0|\n",
            "|       Spätburgunder|             54|       60.0|     89.0|    100.0|\n",
            "|     Tinta Francisca|              1|       60.0|     60.0|     60.0|\n",
            "+--------------------+---------------+-----------+---------+---------+\n",
            "only showing top 20 rows\n",
            "\n"
          ]
        }
      ]
    },
    {
      "cell_type": "markdown",
      "source": [
        "**Média de preços no Brasil em relação ao tipo de uva**"
      ],
      "metadata": {
        "id": "7AG7m59KjBiZ"
      }
    },
    {
      "cell_type": "code",
      "source": [
        "result = spark.sql(\"select distinct variety as tipo_uva, \\\n",
        "                    province as regiao, \\\n",
        "                    count(variety) as contagem_vinhos, \\\n",
        "                    round(avg(price), 0) as media_preco_dolar, \\\n",
        "                    round(avg(price * 5.14), 0) as media_preco_reais, \\\n",
        "                    round(min(price), 0) as min_preco_dolar, \\\n",
        "                    round(min(price * 5.14), 0) as min_preco_reais, \\\n",
        "                    round(max(price), 0) as max_preco_dolar, \\\n",
        "                    round(max(price * 5.14), 0) as max_preco_reais \\\n",
        "       from winemag_data \\\n",
        "       where country = 'Brazil' \\\n",
        "       group by province, tipo_uva \\\n",
        "       order by media_preco_dolar desc\")\n",
        "result.show()"
      ],
      "metadata": {
        "colab": {
          "base_uri": "https://localhost:8080/"
        },
        "id": "FE4OsrwEjIIE",
        "outputId": "38b04be2-28a9-4fb5-e475-71c6ec66c376"
      },
      "execution_count": 15,
      "outputs": [
        {
          "output_type": "stream",
          "name": "stdout",
          "text": [
            "+--------------------+-----------------+---------------+-----------------+-----------------+---------------+---------------+---------------+---------------+\n",
            "|            tipo_uva|           regiao|contagem_vinhos|media_preco_dolar|media_preco_reais|min_preco_dolar|min_preco_reais|max_preco_dolar|max_preco_reais|\n",
            "+--------------------+-----------------+---------------+-----------------+-----------------+---------------+---------------+---------------+---------------+\n",
            "|Bordeaux-style Re...|   Santa Catarina|              1|             35.0|            180.0|           35.0|          180.0|           35.0|          180.0|\n",
            "|     Sparkling Blend|   Santa Catarina|              1|             31.0|            159.0|           31.0|          159.0|           31.0|          159.0|\n",
            "|           Red Blend|           Brazil|              2|             29.0|            149.0|           29.0|          149.0|           29.0|          149.0|\n",
            "|Cabernet Sauvigno...|     Serra Gaúcha|              3|             27.0|            139.0|           27.0|          139.0|           27.0|          139.0|\n",
            "|Cabernet Sauvigno...|Vale dos Vinhedos|              5|             21.0|            106.0|           11.0|           57.0|           35.0|          180.0|\n",
            "|     Sparkling Blend|           Brazil|              3|             17.0|             89.0|           13.0|           67.0|           26.0|          134.0|\n",
            "|             Moscato|           Brazil|              1|             15.0|             77.0|           15.0|           77.0|           15.0|           77.0|\n",
            "|              Merlot| Serra do Sudeste|              1|             15.0|             77.0|           15.0|           77.0|           15.0|           77.0|\n",
            "|              Merlot|     Serra Gaúcha|              1|             15.0|             77.0|           15.0|           77.0|           15.0|           77.0|\n",
            "|              Tannat|    Vale Trentino|              1|             15.0|             77.0|           15.0|           77.0|           15.0|           77.0|\n",
            "|  Cabernet Sauvignon|Vale dos Vinhedos|              3|             13.0|             67.0|           13.0|           67.0|           13.0|           67.0|\n",
            "|              Merlot|Vale dos Vinhedos|              3|             13.0|             67.0|           13.0|           67.0|           13.0|           67.0|\n",
            "+--------------------+-----------------+---------------+-----------------+-----------------+---------------+---------------+---------------+---------------+\n",
            "\n"
          ]
        }
      ]
    },
    {
      "cell_type": "markdown",
      "source": [
        "**Relacionando a variedade da uva e o preço do vinho**"
      ],
      "metadata": {
        "id": "svZdTMjTjyHC"
      }
    },
    {
      "cell_type": "markdown",
      "source": [
        "- A região onde se localiza a Monte Venêto é estratégica do ponto de vista geográfico em termos de relevância no cenário de produção vinícula. Isso chama a atenção também para a necessidade de poricionar o seu produto em relação ao preço dos outros vinhos vendidos na região.\n",
        "\n",
        "- As uvas mais bem avaliadas na região é a Merlot e a Bordeaux-style Red Blend. Essa última uva se apresenta como ideal para o lançamento do vinho, uma vez que já e uma uva cultivada pela empresa.\n",
        "\n",
        "Agora iremos comparar os preços dos vinhos na região da Serra Gaúcha e vale dos vinhedos para entender melhor qual seria um valor interessante para vender o vinho."
      ],
      "metadata": {
        "id": "dKIO_XCPjz7a"
      }
    },
    {
      "cell_type": "code",
      "source": [
        "result = spark.sql(\"select province as regiao, variety as tipo_uva, \\\n",
        "                    count(variety) as qtd_vinhos, \\\n",
        "                    winery as adega, designation as vinha, \\\n",
        "                    points as pontuacao, price as preco, \\\n",
        "                    round((price * 5.14), 0) as preco_reais \\\n",
        "         from winemag_data \\\n",
        "         where province = 'Serra Gaúcha' or province = 'Vale dos Vinhedos' \\\n",
        "         group by province, variety, winery, designation, points, price \\\n",
        "         order by preco desc;\")\n",
        "result.show()"
      ],
      "metadata": {
        "colab": {
          "base_uri": "https://localhost:8080/"
        },
        "id": "qmJsWIB8jzki",
        "outputId": "6f63bc69-3a30-477d-9544-9e2be0baaee8"
      },
      "execution_count": 16,
      "outputs": [
        {
          "output_type": "stream",
          "name": "stdout",
          "text": [
            "+-----------------+--------------------+----------+--------------+------------------+---------+-----+-----------+\n",
            "|           regiao|            tipo_uva|qtd_vinhos|         adega|             vinha|pontuacao|preco|preco_reais|\n",
            "+-----------------+--------------------+----------+--------------+------------------+---------+-----+-----------+\n",
            "|Vale dos Vinhedos|Cabernet Sauvigno...|         2|Vinícola Miolo|           Lote 43|       85| 35.0|      180.0|\n",
            "|     Serra Gaúcha|Cabernet Sauvigno...|         3|Vinícola Miolo|RAR Family Reserve|       83| 27.0|      139.0|\n",
            "|     Serra Gaúcha|              Merlot|         1| Lidio Carraro|             Agnus|       88| 15.0|       77.0|\n",
            "|Vale dos Vinhedos|              Merlot|         3|Vinícola Miolo|              null|       82| 13.0|       67.0|\n",
            "|Vale dos Vinhedos|  Cabernet Sauvignon|         3|Vinícola Miolo|              null|       81| 13.0|       67.0|\n",
            "|Vale dos Vinhedos|Cabernet Sauvigno...|         3|Vinícola Miolo|    Cuvée Giuseppe|       84| 11.0|       57.0|\n",
            "+-----------------+--------------------+----------+--------------+------------------+---------+-----+-----------+\n",
            "\n"
          ]
        }
      ]
    },
    {
      "cell_type": "code",
      "source": [
        "result = spark.sql(\"select province, count(variety) as qtd_vinhos \\\n",
        "                   from winemag_data \\\n",
        "                   where province = 'Serra Gaúcha' or province = 'Vale dos Vinhedos' \\\n",
        "                   group by province \\\n",
        "                   order by qtd_vinhos desc\")\n",
        "result.show()"
      ],
      "metadata": {
        "colab": {
          "base_uri": "https://localhost:8080/"
        },
        "id": "tYjH0oYUlhPz",
        "outputId": "22e2ecb0-f7a3-49c9-b60b-935def592580"
      },
      "execution_count": 17,
      "outputs": [
        {
          "output_type": "stream",
          "name": "stdout",
          "text": [
            "+-----------------+----------+\n",
            "|         province|qtd_vinhos|\n",
            "+-----------------+----------+\n",
            "|Vale dos Vinhedos|        11|\n",
            "|     Serra Gaúcha|         4|\n",
            "+-----------------+----------+\n",
            "\n"
          ]
        }
      ]
    },
    {
      "cell_type": "markdown",
      "source": [
        "- A região do Vale dos Vinhedos apresentam uma maior quantidade de vinhos avaliados pela revista"
      ],
      "metadata": {
        "id": "cEBduRAzly6R"
      }
    },
    {
      "cell_type": "code",
      "source": [
        "result = spark.sql(\"select province as regiao, variety as tipo_uva, \\\n",
        "                    count(variety) as qtd_vinhos, \\\n",
        "                    winery as adega, designation as vinha, \\\n",
        "                    points as pontuacao, price as preco, \\\n",
        "                    round((price * 5.14), 0) as preco_reais \\\n",
        "                    from winemag_data \\\n",
        "                    where province = 'Serra Gaúcha' \\\n",
        "        group by province, variety, winery, designation, points, price \\\n",
        "        order by preco desc;\")\n",
        "result.show()"
      ],
      "metadata": {
        "colab": {
          "base_uri": "https://localhost:8080/"
        },
        "id": "Rfqk2IS4nlvQ",
        "outputId": "c733dfcc-453e-4568-d82e-b5c9f11b85a0"
      },
      "execution_count": 18,
      "outputs": [
        {
          "output_type": "stream",
          "name": "stdout",
          "text": [
            "+------------+--------------------+----------+--------------+------------------+---------+-----+-----------+\n",
            "|      regiao|            tipo_uva|qtd_vinhos|         adega|             vinha|pontuacao|preco|preco_reais|\n",
            "+------------+--------------------+----------+--------------+------------------+---------+-----+-----------+\n",
            "|Serra Gaúcha|Cabernet Sauvigno...|         3|Vinícola Miolo|RAR Family Reserve|       83| 27.0|      139.0|\n",
            "|Serra Gaúcha|              Merlot|         1| Lidio Carraro|             Agnus|       88| 15.0|       77.0|\n",
            "+------------+--------------------+----------+--------------+------------------+---------+-----+-----------+\n",
            "\n"
          ]
        }
      ]
    },
    {
      "cell_type": "markdown",
      "source": [
        "- No total foram avaliados 15 vinhos originados da Serra Gaúcha.\n",
        "\n",
        "- Os vinhos são produzidos a partir de uvas Merlot, Cabernet Sauvignon ou ainda um blend entre as duas uvas.\n",
        "\n",
        "- A faixa de preço que compreende os vinhos varia entre 57 e 180 (reais), enquanto que a maioria dos vinhos avaliados (60%) estão na faixa entre 57 e 67 (reais)"
      ],
      "metadata": {
        "id": "koSEBjMnoCjA"
      }
    },
    {
      "cell_type": "code",
      "source": [
        "result = spark.sql(\"select province as regiao, variety as tipo_uva, \\\n",
        "                    points as pontuacao, price as preco, \\\n",
        "                    round((price * 5.14), 0) as preco_reais \\\n",
        "         from winemag_data \\\n",
        "         where province = 'Serra Gaúcha' or province = 'Vale dos Vinhedos' \\\n",
        "         group by province, variety, winery, designation, points, price \\\n",
        "         order by preco desc;\")\n",
        "result.show()"
      ],
      "metadata": {
        "colab": {
          "base_uri": "https://localhost:8080/"
        },
        "id": "LdY7sxUXoCLi",
        "outputId": "05f11cc1-ed79-4a9a-cbef-f92dfd9cdc33"
      },
      "execution_count": 19,
      "outputs": [
        {
          "output_type": "stream",
          "name": "stdout",
          "text": [
            "+-----------------+--------------------+---------+-----+-----------+\n",
            "|           regiao|            tipo_uva|pontuacao|preco|preco_reais|\n",
            "+-----------------+--------------------+---------+-----+-----------+\n",
            "|Vale dos Vinhedos|Cabernet Sauvigno...|       85| 35.0|      180.0|\n",
            "|     Serra Gaúcha|Cabernet Sauvigno...|       83| 27.0|      139.0|\n",
            "|     Serra Gaúcha|              Merlot|       88| 15.0|       77.0|\n",
            "|Vale dos Vinhedos|              Merlot|       82| 13.0|       67.0|\n",
            "|Vale dos Vinhedos|  Cabernet Sauvignon|       81| 13.0|       67.0|\n",
            "|Vale dos Vinhedos|Cabernet Sauvigno...|       84| 11.0|       57.0|\n",
            "+-----------------+--------------------+---------+-----+-----------+\n",
            "\n"
          ]
        }
      ]
    },
    {
      "cell_type": "markdown",
      "source": [
        "**Conclusão**\n",
        "\n",
        "A Monte Venêto poderia investir em um vinho que fosse fabricado a partir da uva Bordeaux-style Red Blend, uma vez que essa variedade já é cultivada pela empresa. A faixa de preço competitiva para o vinho seria entre 57 e 67 (reais). Um vinho pensado inicialmente a partir dessas informações pode torna-lo competitivo tanto em termos de preço como também em relação ao seu tipo, uma vez que vinhos da variedade Bordeaux-style Red Blend não foram avaliados na região e isso pode apontar para uma lacuna no mercado em relação a essa variedade de vinho."
      ],
      "metadata": {
        "id": "dlb3CJ9tomjK"
      }
    }
  ]
}